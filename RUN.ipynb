{
 "cells": [
  {
   "cell_type": "code",
   "execution_count": 63,
   "metadata": {},
   "outputs": [],
   "source": [
    "import tkinter as tk\n",
    "from tkinter import ttk, filedialog\n",
    "from PIL import Image, ImageTk\n",
    "from LocalModels import faceDet, ImageClass"
   ]
  },
  {
   "cell_type": "code",
   "execution_count": null,
   "metadata": {},
   "outputs": [
    {
     "name": "stdout",
     "output_type": "stream",
     "text": [
      "\u001b[1m1/1\u001b[0m \u001b[32m━━━━━━━━━━━━━━━━━━━━\u001b[0m\u001b[37m\u001b[0m \u001b[1m0s\u001b[0m 85ms/step\n",
      "\u001b[1m1/1\u001b[0m \u001b[32m━━━━━━━━━━━━━━━━━━━━\u001b[0m\u001b[37m\u001b[0m \u001b[1m0s\u001b[0m 116ms/step\n"
     ]
    }
   ],
   "source": [
    "import tkinter as tk\n",
    "from tkinter import filedialog, ttk\n",
    "from PIL import Image, ImageTk\n",
    "\n",
    "\n",
    "\n",
    "# Function to upload and display an image\n",
    "def upload_image():\n",
    "    try:\n",
    "        file_path = filedialog.askopenfilename(\n",
    "            title=\"Select an image\",\n",
    "            filetypes=[(\"Image files\", \"*.jpg *.jpeg *.png *.bmp *.gif\")]\n",
    "        )\n",
    "\n",
    "        if file_path:\n",
    "            # Open and display the image\n",
    "            image = Image.open(file_path)\n",
    "            image = image.resize((400, 300), Image.Resampling.LANCZOS)\n",
    "            photo = ImageTk.PhotoImage(image)\n",
    "            image_label.config(image=photo)\n",
    "            image_label.image = photo  # Keep reference\n",
    "            # Process image\n",
    "            output1 = faceDet(file_path)\n",
    "            if output1:  # Ensure proper check\n",
    "                output2 = ImageClass(file_path)\n",
    "                text_label.config(text=output2)\n",
    "            else:\n",
    "                text_label.config(text=\"The Image contains no Face\")\n",
    "\n",
    "            # Clear any previous errors\n",
    "            error_label.config(text=\"\")\n",
    "    except Exception as e:\n",
    "        error_label.config(text=f\"Error: {str(e)}\")  # Display actual error\n",
    "\n",
    "# Function to close the application\n",
    "def close_window():\n",
    "    root.destroy()\n",
    "\n",
    "# Create main window\n",
    "root = tk.Tk()\n",
    "root.title(\"Image and Text Display\")\n",
    "root.geometry(\"800x600\")\n",
    "root.configure(bg=\"white\")  # Set background color\n",
    "\n",
    "# ---- BUTTON FRAME ----\n",
    "button_frame = tk.Frame(root, bg=\"white\")\n",
    "button_frame.pack(pady=10)  # Add spacing from the top\n",
    "\n",
    "upload_button = ttk.Button(button_frame, text=\"Upload Image\", command=upload_image)\n",
    "upload_button.pack(side=tk.LEFT, padx=10)\n",
    "\n",
    "close_button = ttk.Button(button_frame, text=\"Close\", command=close_window)\n",
    "close_button.pack(side=tk.LEFT, padx=10)\n",
    "\n",
    "# ---- IMAGE FRAME ----\n",
    "image_frame = tk.Frame(root, bg=\"white\")\n",
    "image_frame.pack(pady=20)  # Add spacing\n",
    "\n",
    "image_label = ttk.Label(image_frame, text=\"No Image Selected\", background=\"white\")\n",
    "image_label.pack()\n",
    "\n",
    "# ---- TEXT OUTPUT LABEL ----\n",
    "text_label = ttk.Label(root, text=\"Waiting for Image...\", font=(\"Arial\", 14, \"bold\"),\n",
    "                       foreground=\"black\", background=\"lightgray\",\n",
    "                       width=40, anchor=tk.CENTER)\n",
    "text_label.pack(pady=15)\n",
    "\n",
    "# ---- ERROR LABEL ----\n",
    "error_label = ttk.Label(root, text=\"\", foreground=\"red\", background=\"white\")\n",
    "error_label.pack(pady=5)\n",
    "\n",
    "# Run the application\n",
    "root.mainloop()\n"
   ]
  }
 ],
 "metadata": {
  "kernelspec": {
   "display_name": "sales",
   "language": "python",
   "name": "python3"
  },
  "language_info": {
   "codemirror_mode": {
    "name": "ipython",
    "version": 3
   },
   "file_extension": ".py",
   "mimetype": "text/x-python",
   "name": "python",
   "nbconvert_exporter": "python",
   "pygments_lexer": "ipython3",
   "version": "3.9.21"
  }
 },
 "nbformat": 4,
 "nbformat_minor": 2
}
